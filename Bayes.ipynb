{
 "cells": [
  {
   "cell_type": "markdown",
   "metadata": {},
   "source": [
    "# Análisis Naive Bayes\n",
    "Autores:\n",
    "- Gerson Ramírez\n",
    "- Diego Valenzuela"
   ]
  },
  {
   "cell_type": "code",
   "execution_count": 28,
   "metadata": {},
   "outputs": [
    {
     "name": "stdout",
     "output_type": "stream",
     "text": [
      "   Id  MSSubClass  MSZoning  LotFrontage  LotArea  Street  LotShape  \\\n",
      "0   1          60         3         65.0     8450       1         3   \n",
      "1   2          20         3         80.0     9600       1         3   \n",
      "2   3          60         3         68.0    11250       1         0   \n",
      "3   4          70         3         60.0     9550       1         0   \n",
      "4   5          60         3         84.0    14260       1         0   \n",
      "\n",
      "   LandContour  Utilities  LotConfig  ...  3SsnPorch  ScreenPorch  PoolArea  \\\n",
      "0            3          0          4  ...          0            0         0   \n",
      "1            3          0          2  ...          0            0         0   \n",
      "2            3          0          4  ...          0            0         0   \n",
      "3            3          0          0  ...          0            0         0   \n",
      "4            3          0          2  ...          0            0         0   \n",
      "\n",
      "   MiscVal  MoSold  YrSold  SaleType  SaleCondition  SalePrice  PriceCategory  \n",
      "0        0       2    2008         8              4     208500           Cara  \n",
      "1        0       5    2007         8              4     181500     Intermedia  \n",
      "2        0       9    2008         8              4     223500           Cara  \n",
      "3        0       2    2006         8              0     140000     Intermedia  \n",
      "4        0      12    2008         8              4     250000           Cara  \n",
      "\n",
      "[5 rows x 77 columns]\n"
     ]
    }
   ],
   "source": [
    "import pandas as pd\n",
    "from sklearn.naive_bayes import GaussianNB\n",
    "from sklearn.preprocessing import StandardScaler\n",
    "from sklearn.metrics import mean_squared_error, r2_score\n",
    "from sklearn.model_selection import train_test_split\n",
    "\n",
    "df = pd.read_csv(\"./processed_data.csv\")\n",
    "\n",
    "print(df.head())\n"
   ]
  },
  {
   "cell_type": "markdown",
   "metadata": {},
   "source": [
    "## Identificación de valores nulos y tipos de datos\n",
    "\n",
    "Se analiza la presencia de valores nulos en el dataset y se identifican los tipos de datos de cada columna. Esto permitirá definir estrategias de limpieza y preprocesamiento antes de entrenar el modelo."
   ]
  },
  {
   "cell_type": "code",
   "execution_count": 29,
   "metadata": {},
   "outputs": [
    {
     "name": "stdout",
     "output_type": "stream",
     "text": [
      "<class 'pandas.core.frame.DataFrame'>\n",
      "RangeIndex: 1460 entries, 0 to 1459\n",
      "Data columns (total 77 columns):\n",
      " #   Column         Non-Null Count  Dtype  \n",
      "---  ------         --------------  -----  \n",
      " 0   Id             1460 non-null   int64  \n",
      " 1   MSSubClass     1460 non-null   int64  \n",
      " 2   MSZoning       1460 non-null   int64  \n",
      " 3   LotFrontage    1460 non-null   float64\n",
      " 4   LotArea        1460 non-null   int64  \n",
      " 5   Street         1460 non-null   int64  \n",
      " 6   LotShape       1460 non-null   int64  \n",
      " 7   LandContour    1460 non-null   int64  \n",
      " 8   Utilities      1460 non-null   int64  \n",
      " 9   LotConfig      1460 non-null   int64  \n",
      " 10  LandSlope      1460 non-null   int64  \n",
      " 11  Neighborhood   1460 non-null   int64  \n",
      " 12  Condition1     1460 non-null   int64  \n",
      " 13  Condition2     1460 non-null   int64  \n",
      " 14  BldgType       1460 non-null   int64  \n",
      " 15  HouseStyle     1460 non-null   int64  \n",
      " 16  OverallQual    1460 non-null   int64  \n",
      " 17  OverallCond    1460 non-null   int64  \n",
      " 18  YearBuilt      1460 non-null   int64  \n",
      " 19  YearRemodAdd   1460 non-null   int64  \n",
      " 20  RoofStyle      1460 non-null   int64  \n",
      " 21  RoofMatl       1460 non-null   int64  \n",
      " 22  Exterior1st    1460 non-null   int64  \n",
      " 23  Exterior2nd    1460 non-null   int64  \n",
      " 24  MasVnrType     1460 non-null   int64  \n",
      " 25  MasVnrArea     1460 non-null   float64\n",
      " 26  ExterQual      1460 non-null   int64  \n",
      " 27  ExterCond      1460 non-null   int64  \n",
      " 28  Foundation     1460 non-null   int64  \n",
      " 29  BsmtQual       1460 non-null   int64  \n",
      " 30  BsmtCond       1460 non-null   int64  \n",
      " 31  BsmtExposure   1460 non-null   int64  \n",
      " 32  BsmtFinType1   1460 non-null   int64  \n",
      " 33  BsmtFinSF1     1460 non-null   int64  \n",
      " 34  BsmtFinType2   1460 non-null   int64  \n",
      " 35  BsmtFinSF2     1460 non-null   int64  \n",
      " 36  BsmtUnfSF      1460 non-null   int64  \n",
      " 37  TotalBsmtSF    1460 non-null   int64  \n",
      " 38  Heating        1460 non-null   int64  \n",
      " 39  HeatingQC      1460 non-null   int64  \n",
      " 40  CentralAir     1460 non-null   int64  \n",
      " 41  Electrical     1460 non-null   int64  \n",
      " 42  1stFlrSF       1460 non-null   int64  \n",
      " 43  2ndFlrSF       1460 non-null   int64  \n",
      " 44  LowQualFinSF   1460 non-null   int64  \n",
      " 45  GrLivArea      1460 non-null   int64  \n",
      " 46  BsmtFullBath   1460 non-null   int64  \n",
      " 47  BsmtHalfBath   1460 non-null   int64  \n",
      " 48  FullBath       1460 non-null   int64  \n",
      " 49  HalfBath       1460 non-null   int64  \n",
      " 50  BedroomAbvGr   1460 non-null   int64  \n",
      " 51  KitchenAbvGr   1460 non-null   int64  \n",
      " 52  KitchenQual    1460 non-null   int64  \n",
      " 53  TotRmsAbvGrd   1460 non-null   int64  \n",
      " 54  Functional     1460 non-null   int64  \n",
      " 55  Fireplaces     1460 non-null   int64  \n",
      " 56  GarageType     1460 non-null   int64  \n",
      " 57  GarageYrBlt    1460 non-null   float64\n",
      " 58  GarageFinish   1460 non-null   int64  \n",
      " 59  GarageCars     1460 non-null   int64  \n",
      " 60  GarageArea     1460 non-null   int64  \n",
      " 61  GarageQual     1460 non-null   int64  \n",
      " 62  GarageCond     1460 non-null   int64  \n",
      " 63  PavedDrive     1460 non-null   int64  \n",
      " 64  WoodDeckSF     1460 non-null   int64  \n",
      " 65  OpenPorchSF    1460 non-null   int64  \n",
      " 66  EnclosedPorch  1460 non-null   int64  \n",
      " 67  3SsnPorch      1460 non-null   int64  \n",
      " 68  ScreenPorch    1460 non-null   int64  \n",
      " 69  PoolArea       1460 non-null   int64  \n",
      " 70  MiscVal        1460 non-null   int64  \n",
      " 71  MoSold         1460 non-null   int64  \n",
      " 72  YrSold         1460 non-null   int64  \n",
      " 73  SaleType       1460 non-null   int64  \n",
      " 74  SaleCondition  1460 non-null   int64  \n",
      " 75  SalePrice      1460 non-null   int64  \n",
      " 76  PriceCategory  1460 non-null   object \n",
      "dtypes: float64(3), int64(73), object(1)\n",
      "memory usage: 878.4+ KB\n"
     ]
    },
    {
     "data": {
      "text/plain": [
       "Id               0\n",
       "HalfBath         0\n",
       "GarageType       0\n",
       "Fireplaces       0\n",
       "Functional       0\n",
       "                ..\n",
       "MasVnrArea       0\n",
       "MasVnrType       0\n",
       "Exterior2nd      0\n",
       "Exterior1st      0\n",
       "PriceCategory    0\n",
       "Length: 77, dtype: int64"
      ]
     },
     "execution_count": 29,
     "metadata": {},
     "output_type": "execute_result"
    }
   ],
   "source": [
    "df.info()\n",
    "df.isnull().sum().sort_values(ascending=False)"
   ]
  },
  {
   "cell_type": "markdown",
   "metadata": {},
   "source": [
    "## División del conjunto de datos en entrenamiento y prueba\n",
    "\n",
    "Se separa el dataset en dos subconjuntos: entrenamiento (80%) y prueba (20%). La variable objetivo es `SalePrice`. Esta división permitirá evaluar el rendimiento del modelo en datos no vistos durante el entrenamiento.\n"
   ]
  },
  {
   "cell_type": "code",
   "execution_count": 30,
   "metadata": {},
   "outputs": [],
   "source": [
    "\n",
    "X = df.drop(columns=[\"SalePrice\", \"Id\"])\n",
    "y = df[\"SalePrice\"]\n",
    "\n",
    "X_train, X_test, y_train, y_test = train_test_split(X, y, test_size=0.2, random_state=42)\n",
    "\n"
   ]
  },
  {
   "cell_type": "markdown",
   "metadata": {},
   "source": [
    "## Aplicación de Naive Bayes para regresión\n",
    "\n",
    "Se entrena un modelo de Naive Bayes para estimar el precio de las viviendas. Dado que Naive Bayes no es un algoritmo de regresión, se adapta usando GaussianNB. Antes del entrenamiento, se escalan los datos para mejorar el desempeño del modelo."
   ]
  },
  {
   "cell_type": "code",
   "execution_count": 31,
   "metadata": {},
   "outputs": [],
   "source": [
    "\n",
    "features = ['GrLivArea', 'OverallQual', '1stFlrSF', 'GarageCars', 'YearBuilt', 'LotArea', ]\n",
    "\n",
    "X = df[features]\n",
    "y = df[\"SalePrice\"]\n",
    "\n",
    "X_train, X_test, y_train, y_test = train_test_split(X, y, test_size=0.2, random_state=42)\n",
    "\n",
    "scaler = StandardScaler()\n",
    "X_train_scaled = scaler.fit_transform(X_train)\n",
    "X_test_scaled = scaler.transform(X_test)\n",
    "\n",
    "model = GaussianNB()\n",
    "model.fit(X_train_scaled, y_train)\n",
    "\n",
    "y_pred = model.predict(X_test_scaled)"
   ]
  },
  {
   "cell_type": "code",
   "execution_count": 32,
   "metadata": {},
   "outputs": [
    {
     "name": "stdout",
     "output_type": "stream",
     "text": [
      "MSE: 3123767908.839041, RMSE: 55890.678192691856, R2: 0.5927464068070458\n"
     ]
    }
   ],
   "source": [
    "mse = mean_squared_error(y_test, y_pred)\n",
    "rmse = mse ** 0.5\n",
    "r2 = r2_score(y_test, y_pred)\n",
    "\n",
    "print(f\"MSE: {mse}, RMSE: {rmse}, R2: {r2}\")\n"
   ]
  },
  {
   "cell_type": "markdown",
   "metadata": {},
   "source": [
    "## Análisis de los resultados del modelo de Naive Bayes para regresión\n",
    "\n",
    "Los resultados obtenidos en la evaluación del modelo son:\n",
    "\n",
    "- **MSE:** 3,384,173,778.46 \n",
    "- **RMSE:** 5,8173.65\n",
    "- **R²:** 0.559  \n",
    "\n",
    "El modelo explica aproximadamente **el 55.9% de la variabilidad** en los precios de las viviendas, pero el error RMSE de **3,384,173,778.46** es relativamente alto, indicando que las predicciones no son precisas. \n",
    "\n",
    "Naive Bayes no es un modelo comúnmente utilizado para regresión, y estos resultados reflejan que no captura bien la relación entre las variables predictoras y el precio de las viviendas.\n",
    "\n",
    "Para determinar si existen modelos más precisos, se procederá a comparar su desempeño con **Regresión Lineal y Árbol de Regresión**.\n"
   ]
  },
  {
   "cell_type": "markdown",
   "metadata": {},
   "source": [
    "## Comparación del modelo de Naive Bayes con Árbol de Decisión y Random Forest\n",
    "\n",
    "Se comparan los resultados obtenidos en la regresión con Naive Bayes frente a otros modelos previamente entrenados:\n",
    "\n",
    "| Modelo                     | MSE           | RMSE       | R²     |\n",
    "|----------------------------|--------------|-----------|--------|\n",
    "| **Naive Bayes**            | 3,384,173,778  | 58,173.65 | 0.5588 |\n",
    "| **Árbol de Decisión (Prof. 5)** | 1,493,659,000 | 38,647.88 | 0.8053 |\n",
    "| **Random Forest Regressor** | 813,972,852  | 28,530.21 | 0.8939 |\n",
    "\n",
    "### **Análisis de los resultados**\n",
    "- **Naive Bayes mostró el peor desempeño** con el mayor error (MSE y RMSE) y el menor R² (`0.5588`). Esto indica que no logra capturar bien la relación entre las variables predictoras y `SalePrice`.\n",
    "- **Árbol de Decisión** tuvo un desempeño moderado con un R² de `0.8053`, mejorando significativamente la predicción en comparación con Naive Bayes.\n",
    "- **Random Forest** obtuvo los mejores resultados con un **MSE y RMSE más bajos**, además de un **R² de 0.8939**, lo que sugiere que captura mejor la variabilidad del precio de las viviendas.\n",
    "\n",
    "### **Conclusión**\n",
    "El modelo de **Naive Bayes no es adecuado para regresión en este conjunto de datos**, ya que su precisión es significativamente menor que la de los otros modelos. **Random Forest se posiciona como la mejor opción**, logrando la mayor precisión en la estimación de precios.\n"
   ]
  },
  {
   "cell_type": "markdown",
   "metadata": {},
   "source": [
    "## Modelo de Clasificación con Naive Bayes usando PriceCategory\n",
    "\n",
    "En este paso se entrena un modelo de clasificación con Naive Bayes Gaussiano, utilizando como variable objetivo la columna `PriceCategory`, la cual clasifica las viviendas en tres categorías: Barata, Media y Cara. El objetivo del modelo es predecir correctamente esta clasificación a partir de variables numéricas del dataset."
   ]
  },
  {
   "cell_type": "code",
   "execution_count": 33,
   "metadata": {},
   "outputs": [],
   "source": [
    "import matplotlib.pyplot as plt\n",
    "import seaborn as sns\n",
    "from sklearn.metrics import classification_report, confusion_matrix\n",
    "\n",
    "X = df[features]\n",
    "y = df[\"PriceCategory\"]\n",
    "\n",
    "X_train_class, X_test_class, y_train_class, y_test_class = train_test_split(X, y, test_size=0.2, random_state=42)\n",
    "\n",
    "scaler_class = StandardScaler()\n",
    "X_train_class_scaled = scaler_class.fit_transform(X_train_class)\n",
    "X_test_class_scaled = scaler_class.transform(X_test_class)\n",
    "\n",
    "model_class = GaussianNB()\n",
    "model_class.fit(X_train_class_scaled, y_train_class)\n",
    "\n",
    "y_pred_class = model_class.predict(X_test_class_scaled)\n"
   ]
  },
  {
   "cell_type": "markdown",
   "metadata": {},
   "source": [
    "## Evaluación del Modelo de Clasificación con Naive Bayes\n",
    "\n",
    "Se evalúa el desempeño del modelo de clasificación Naive Bayes utilizando el conjunto de prueba. Para ello, se utilizan métricas comunes como el reporte de clasificación y la matriz de confusión, que permiten identificar el nivel de precisión, recall y F1-score por cada categoría.\n"
   ]
  },
  {
   "cell_type": "code",
   "execution_count": null,
   "metadata": {},
   "outputs": [
    {
     "name": "stdout",
     "output_type": "stream",
     "text": [
      "[[65  1 28]\n",
      " [ 0 98 12]\n",
      " [ 4 22 62]]\n",
      "              precision    recall  f1-score   support\n",
      "\n",
      "        Cara       0.94      0.69      0.80        94\n",
      "   Economica       0.81      0.89      0.85       110\n",
      "  Intermedia       0.61      0.70      0.65        88\n",
      "\n",
      "    accuracy                           0.77       292\n",
      "   macro avg       0.79      0.76      0.77       292\n",
      "weighted avg       0.79      0.77      0.77       292\n",
      "\n"
     ]
    }
   ],
   "source": [
    "from sklearn.metrics import classification_report, confusion_matrix\n",
    "\n",
    "print(confusion_matrix(y_test_class, y_pred_class))\n",
    "print(classification_report(y_test_class, y_pred_class))\n",
    "conf_mat = confusion_matrix(y_test_class, y_pred_class)\n",
    "\n",
    "labels = sorted(df[\"PriceCategory\"].unique())\n",
    "\n",
    "plt.figure(figsize=(7,6))\n",
    "sns.heatmap(conf_mat, annot=True, fmt='d', xticklabels=labels, yticklabels=labels, cmap=\"Blues\")\n",
    "plt.xlabel('Predicción')\n",
    "plt.ylabel('Valor Real')\n",
    "plt.title('Matriz de Confusión - Clasificación Naive Bayes')\n",
    "plt.show()\n",
    "\n",
    "# Reporte de clasificación\n",
    "report = classification_report(y_test_class, y_pred_class, output_dict=True)\n",
    "df_report = pd.DataFrame(report).transpose().drop(['accuracy', 'macro avg', 'weighted avg'])\n",
    "\n",
    "# Gráfica de métricas por clase\n",
    "df_report[['precision', 'recall', 'f1-score']].plot(kind='bar', figsize=(10,6))\n",
    "plt.title(\"Métricas de Clasificación por Categoría\")\n",
    "plt.ylabel(\"Valor\")\n",
    "plt.xticks(rotation=45)\n",
    "plt.ylim(0, 1.1)\n",
    "plt.grid(axis='y', linestyle='--', alpha=0.7)\n",
    "plt.tight_layout()\n",
    "plt.show()\n"
   ]
  }
 ],
 "metadata": {
  "kernelspec": {
   "display_name": "venv",
   "language": "python",
   "name": "python3"
  },
  "language_info": {
   "codemirror_mode": {
    "name": "ipython",
    "version": 3
   },
   "file_extension": ".py",
   "mimetype": "text/x-python",
   "name": "python",
   "nbconvert_exporter": "python",
   "pygments_lexer": "ipython3",
   "version": "3.13.0"
  }
 },
 "nbformat": 4,
 "nbformat_minor": 2
}
